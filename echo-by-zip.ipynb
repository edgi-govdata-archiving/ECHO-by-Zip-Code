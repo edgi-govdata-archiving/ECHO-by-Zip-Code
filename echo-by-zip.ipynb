{
 "cells": [
  {
   "cell_type": "markdown",
   "metadata": {},
   "source": [
    "# Environmental Crime\n",
    "This workbook is a way to quickly view data from EPA's Enforcement and Compliance History Online portal that is relevant to your city. ECHO is the major repository of the U.S. Environmental Protection Agency for public data on its oversight and enforcement activities. It contains information on most if not all of the facilities regulated by the agency for their compliance with our major environmental laws. ([EPA’s “about ECHO data” page](https://echo.epa.gov/resources/echo-data/about-the-data))\n",
    "\n",
    "The workbook shows you the cost, in dollar terms, of the climate change-causing greenhouse gases industries in your city are allowed to release, and whether enforcement actions are taken against facilities who violate the Clean Air Act."
   ]
  },
  {
   "cell_type": "markdown",
   "metadata": {},
   "source": [
    "## How to run this notebook:\n",
    "1. Run the first cell and enter your own 5-digit U.S. ZIP code in the input field.\n",
    "1. You can then run cells sequentially, or go to the Runtime menu and click \"Run all\": ![Screen Shot 2020-02-26 at 3 26 14 PM](https://user-images.githubusercontent.com/454690/75397703-60361e00-58ac-11ea-81c2-69d13dfce158.png)\n",
    "1. That's it! It might take a minute or two to run and generate all the reports."
   ]
  },
  {
   "cell_type": "markdown",
   "metadata": {},
   "source": [
    "# **Let's begin**\n",
    "Hover over the \"[ ]\" on the top left corner of the cell below and you should see a \"play\" button appear. Click on it to run the cell then move to the next one.¶\n",
    "### Run this next cell to create the widget for inputting your zip code. It will create an input field at the bottom. Enter your city and state and then move on to the next cell, or choose Run All as described above."
   ]
  },
  {
   "cell_type": "code",
   "execution_count": 1,
   "metadata": {},
   "outputs": [
    {
     "data": {
      "application/vnd.jupyter.widget-view+json": {
       "model_id": "e50ad62975834a19a025ba4ba211367d",
       "version_major": 2,
       "version_minor": 0
      },
      "text/plain": [
       "Text(value='Minneapolis', description='City: ')"
      ]
     },
     "metadata": {},
     "output_type": "display_data"
    },
    {
     "data": {
      "application/vnd.jupyter.widget-view+json": {
       "model_id": "ee446021415a44078068bcfa6d06bbbd",
       "version_major": 2,
       "version_minor": 0
      },
      "text/plain": [
       "Dropdown(description='State:', index=23, options=('AL', 'AK', 'AZ', 'AR', 'CA', 'CO', 'CT', 'DC', 'DE', 'FL', …"
      ]
     },
     "metadata": {},
     "output_type": "display_data"
    }
   ],
   "source": [
    "# Import libraries\n",
    "import pandas as pd\n",
    "import numpy as np\n",
    "import matplotlib.pyplot as plt\n",
    "%matplotlib inline\n",
    "from matplotlib.ticker import MaxNLocator\n",
    "import folium\n",
    "import urllib.parse\n",
    "from ipywidgets import interact, interactive, fixed, interact_manual\n",
    "import ipywidgets as widgets\n",
    "from IPython.display import display, HTML\n",
    "\n",
    "def get_data( sql, index_field = None ):\n",
    "    url='http://apps.tlt.stonybrook.edu/echoepa/?query='\n",
    "    data_location=url+urllib.parse.quote(sql)\n",
    "    ds = pd.read_csv(data_location,encoding='iso-8859-1')\n",
    "    if ( index_field is not None ):\n",
    "        ds.set_index( index_field, inplace=True)\n",
    "    return ds\n",
    "\n",
    "city_widget = widgets.Text(\n",
    "    value=\"Minneapolis\",\n",
    "    description='City: ',\n",
    "    disabled=False\n",
    ")\n",
    "display( city_widget )\n",
    "\n",
    "states = [\"AL\", \"AK\", \"AZ\", \"AR\", \"CA\", \"CO\", \"CT\", \"DC\", \"DE\", \"FL\", \"GA\", \n",
    "          \"HI\", \"ID\", \"IL\", \"IN\", \"IA\", \"KS\", \"KY\", \"LA\", \"ME\", \"MD\", \n",
    "          \"MA\", \"MI\", \"MN\", \"MS\", \"MO\", \"MT\", \"NE\", \"NV\", \"NH\", \"NJ\", \n",
    "          \"NM\", \"NY\", \"NC\", \"ND\", \"OH\", \"OK\", \"OR\", \"PA\", \"RI\", \"SC\", \n",
    "          \"SD\", \"TN\", \"TX\", \"UT\", \"VT\", \"VA\", \"WA\", \"WV\", \"WI\", \"WY\"]\n",
    "dropdown_state=widgets.Dropdown(\n",
    "    options=states,\n",
    "    value='MN',\n",
    "    description='State:',\n",
    "    disabled=False,\n",
    ")\n",
    "display (dropdown_state)"
   ]
  },
  {
   "cell_type": "code",
   "execution_count": 2,
   "metadata": {},
   "outputs": [],
   "source": [
    "my_city = city_widget.value\n",
    "my_state = dropdown_state.value\n",
    "\n",
    "# Define columns of interest (see the echo_exporter_columns xlsx file that comes bundled with the csv download)\n",
    "# This is not a comprehensive list of columns; more are available.\n",
    "# This dictionary maps the column titles to their data types, to allow for faster import\n",
    "\n",
    "# Note to self - right now mapping everything not explicitly a number as a string, might be an issue later\n",
    "column_mapping = {\n",
    "    \"REGISTRY_ID\": str,\n",
    "    \"FAC_NAME\": str,\n",
    "    \"FAC_CITY\": str,\n",
    "    \"FAC_STATE\": str,\n",
    "    \"FAC_ZIP\": str,\n",
    "    \"FAC_LAT\": float,\n",
    "    \"FAC_LONG\": float,\n",
    "    \"GHG_CO2_RELEASES\": float,\n",
    "    \"AIR_IDS\": str\n",
    "}\n",
    "column_names = list( column_mapping.keys() )\n",
    "columns_string = ','.join( column_names )"
   ]
  },
  {
   "cell_type": "code",
   "execution_count": 3,
   "metadata": {},
   "outputs": [],
   "source": [
    "# Filter to just your city\n",
    "\n",
    "sql = \"select \" + columns_string + \" from ECHO_EXPORTER where FAC_CITY = '\" + my_city + \"' and FAC_STATE = '\" + my_state + \"'\"\n",
    "\n",
    "try:\n",
    "    # Use the first column name as the index.\n",
    "    my_echo = get_data( sql, column_names[0] )\n",
    "    num_permits = my_echo.shape[0]\n",
    "except pd.errors.EmptyDataError:\n",
    "    print(\"We couldn't find any EPA facilities in \"+my_city+\", \"+my_state+\". This could be because there are no facilities or be because of a problem with the way you spelled the city.\")"
   ]
  },
  {
   "cell_type": "markdown",
   "metadata": {},
   "source": [
    "## What facilities in your city report GHGs?"
   ]
  },
  {
   "cell_type": "code",
   "execution_count": 4,
   "metadata": {},
   "outputs": [
    {
     "name": "stdout",
     "output_type": "stream",
     "text": [
      "There are 4012 facilities in Minneapolis tracked in the ECHO database.\n"
     ]
    }
   ],
   "source": [
    "num_facilities = my_echo.shape[0]\n",
    "print(\"There are %s facilities in %s tracked in the ECHO database.\" %(num_facilities, my_city))"
   ]
  },
  {
   "cell_type": "code",
   "execution_count": 5,
   "metadata": {},
   "outputs": [
    {
     "data": {
      "text/plain": [
       "Text(0.5, 1.0, 'Of the 4012 facilities reporting to ECHO in Minneapolis, 9 report greenhouse gas emissions.')"
      ]
     },
     "execution_count": 5,
     "metadata": {},
     "output_type": "execute_result"
    },
    {
     "data": {
      "image/png": "[encoded data removed]",
      "text/plain": [
       "<Figure size 432x288 with 1 Axes>"
      ]
     },
     "metadata": {},
     "output_type": "display_data"
    }
   ],
   "source": [
    "my_ghg = my_echo[my_echo[\"GHG_CO2_RELEASES\"].notna()]\n",
    "\n",
    "plt.pie([my_ghg.shape[0], num_facilities - my_ghg.shape[0]], labels=[\"Reporting GHG Emissions\", \"Not Reporting GHG Emissions\"], autopct='%1.1f%%', shadow=True)\n",
    "\n",
    "plt.title('Of the %s facilities reporting to ECHO in %s, %s report greenhouse gas emissions.' %(num_facilities, my_city, my_ghg.shape[0]))\n"
   ]
  },
  {
   "cell_type": "markdown",
   "metadata": {},
   "source": [
    "Stats on CO2 releases for the facilities that are reporting: Total Facility Emissions in metric tons CO2e (excluding Biogenic CO2) from the most recent reporting year."
   ]
  },
  {
   "cell_type": "code",
   "execution_count": 6,
   "metadata": {},
   "outputs": [
    {
     "name": "stdout",
     "output_type": "stream",
     "text": [
      "'Count' is the number of facilities reporting; all of the other numbers are statistics on the greenhouse gas emissions of all of the facilities in Minneapolis, measured in metric tons of CO2e.\n"
     ]
    },
    {
     "data": {
      "text/plain": [
       "count         9.000000\n",
       "mean     194459.444444\n",
       "std      307656.828653\n",
       "min       28139.000000\n",
       "25%       53281.000000\n",
       "50%       95382.000000\n",
       "75%      150290.000000\n",
       "max      999751.000000\n",
       "Name: GHG_CO2_RELEASES, dtype: float64"
      ]
     },
     "execution_count": 6,
     "metadata": {},
     "output_type": "execute_result"
    }
   ],
   "source": [
    "print(\"'Count' is the number of facilities reporting; all of the other numbers are statistics on the greenhouse gas emissions of all of the facilities in %s, measured in metric tons of CO2e.\" %my_city)\n",
    "my_ghg[\"GHG_CO2_RELEASES\"].describe()"
   ]
  },
  {
   "cell_type": "code",
   "execution_count": 7,
   "metadata": {},
   "outputs": [
    {
     "name": "stderr",
     "output_type": "stream",
     "text": [
      "/Users/Eric/anaconda3/lib/python3.7/site-packages/ipykernel_launcher.py:3: SettingWithCopyWarning: \n",
      "A value is trying to be set on a copy of a slice from a DataFrame.\n",
      "Try using .loc[row_indexer,col_indexer] = value instead\n",
      "\n",
      "See the caveats in the documentation: http://pandas.pydata.org/pandas-docs/stable/indexing.html#indexing-view-versus-copy\n",
      "  This is separate from the ipykernel package so we can avoid doing imports until\n"
     ]
    },
    {
     "data": {
      "text/html": [
       "<div style=\"width:100%;\"><div style=\"position:relative;width:100%;height:0;padding-bottom:60%;\"><iframe src=\"about:blank\" style=\"position:absolute;width:100%;height:100%;left:0;top:0;border:none !important;\" data-html=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 onload=\"this.contentDocument.open();this.contentDocument.write(atob(this.getAttribute('data-html')));this.contentDocument.close();\" allowfullscreen webkitallowfullscreen mozallowfullscreen></iframe></div></div>"
      ],
      "text/plain": [
       "<folium.folium.Map at 0x11558e0d0>"
      ]
     },
     "execution_count": 7,
     "metadata": {},
     "output_type": "execute_result"
    }
   ],
   "source": [
    "# Let's show a quick map of your area and the facilities in it\n",
    "# Generate a scale by which we can classify facilities , and map them accordingly\n",
    "my_ghg[\"quartile\"]=pd.qcut(my_ghg[\"GHG_CO2_RELEASES\"], 4, labels=False, duplicates=\"drop\") # quartiles\n",
    "radii={0:6, 1:10, 2:14, 3: 20}\n",
    "\n",
    "def mapper(dataframe):\n",
    "    # Initialize the map\n",
    "    m = folium.Map()\n",
    "\n",
    "    # Add a clickable marker for each facility\n",
    "    for index, row in dataframe.iterrows():\n",
    "        folium.CircleMarker(\n",
    "            location = [row[\"FAC_LAT\"], row[\"FAC_LONG\"]],\n",
    "            popup = row[\"FAC_NAME\"]+\" released \"+str(\"{:,.0f}\".format(row[\"GHG_CO2_RELEASES\"]))+\" tons of GHG emissions last year.\",\n",
    "            radius = radii[row[\"quartile\"]],\n",
    "            color = \"black\",\n",
    "            weight = 1,\n",
    "            fill_color = \"orange\",\n",
    "            fill_opacity= .4\n",
    "        ).add_to(m)\n",
    "\n",
    "    bounds = m.get_bounds()\n",
    "    m.fit_bounds(bounds)\n",
    "    \n",
    "    # Show the map\n",
    "    return m\n",
    "\n",
    "map_of_facilities_in_my_area = mapper(my_ghg)\n",
    "map_of_facilities_in_my_area"
   ]
  },
  {
   "cell_type": "markdown",
   "metadata": {},
   "source": [
    "## What's the cost of these emissions?\n",
    "On May 25, 2020, George Floyd, a Black man, was killed by white Minneapolis, MN police offficer Derek Chauvin. Chauvin kneeled on Floyd's neck for nearly nine minutes, after arresting him for alledgly using a counterfeit $20 bill.\n",
    "\n",
    "Every single day, the facilities mapped above release climate change-causing chemicals into the atmosphere - and they do so legally, in full public view (they report their numbers), and without reprcussion. \n",
    "\n",
    "The economic cost of these emissions can be calculated. The \"social cost of carbon\" is estimated to be about 50/ton. That is, every ton of GHG emitted represents a $50 cost to future generations, from rising sea levels that flood homes, strong storms that damage crops, and so on."
   ]
  },
  {
   "cell_type": "code",
   "execution_count": 8,
   "metadata": {},
   "outputs": [
    {
     "data": {
      "text/html": [
       "<h1>XCEL ENERGY RIVERSIDE GENERATING PLANT</h1><h4>999,751</h3> tons of GHGs emitted last year.<h3> $49,987,550</h3> The amount of climate damage, done legally and in full public view. It amounts to an uncompensated theft from the future. <h2>2,499,378 </h2> And that amount of money is this ^^^ many times more than the amount George Floyd was accused of counterfeiting."
      ],
      "text/plain": [
       "<IPython.core.display.HTML object>"
      ]
     },
     "metadata": {},
     "output_type": "display_data"
    },
    {
     "data": {
      "text/html": [
       "<h1>UNIVERSITY OF MN - TWIN CITIES</h1><h4>214,682</h3> tons of GHGs emitted last year.<h3> $10,734,100</h3> The amount of climate damage, done legally and in full public view. It amounts to an uncompensated theft from the future. <h2>536,705 </h2> And that amount of money is this ^^^ many times more than the amount George Floyd was accused of counterfeiting."
      ],
      "text/plain": [
       "<IPython.core.display.HTML object>"
      ]
     },
     "metadata": {},
     "output_type": "display_data"
    },
    {
     "data": {
      "text/html": [
       "<h1>HENNEPIN ENERGY RECOVERY CENTER</h1><h4>150,290</h3> tons of GHGs emitted last year.<h3> $7,514,500</h3> The amount of climate damage, done legally and in full public view. It amounts to an uncompensated theft from the future. <h2>375,725 </h2> And that amount of money is this ^^^ many times more than the amount George Floyd was accused of counterfeiting."
      ],
      "text/plain": [
       "<IPython.core.display.HTML object>"
      ]
     },
     "metadata": {},
     "output_type": "display_data"
    },
    {
     "data": {
      "text/html": [
       "<h1>NRG ENERGY CENTER MINNEAPOLIS</h1><h4>100,397</h3> tons of GHGs emitted last year.<h3> $5,019,850</h3> The amount of climate damage, done legally and in full public view. It amounts to an uncompensated theft from the future. <h2>250,992 </h2> And that amount of money is this ^^^ many times more than the amount George Floyd was accused of counterfeiting."
      ],
      "text/plain": [
       "<IPython.core.display.HTML object>"
      ]
     },
     "metadata": {},
     "output_type": "display_data"
    },
    {
     "data": {
      "text/html": [
       "<h1>NORTHERN STATE POWER COMPANY, A MINNESOTA CORPORATION - NORTH DAKOTA</h1><h4>95,382</h3> tons of GHGs emitted last year.<h3> $4,769,100</h3> The amount of climate damage, done legally and in full public view. It amounts to an uncompensated theft from the future. <h2>238,455 </h2> And that amount of money is this ^^^ many times more than the amount George Floyd was accused of counterfeiting."
      ],
      "text/plain": [
       "<IPython.core.display.HTML object>"
      ]
     },
     "metadata": {},
     "output_type": "display_data"
    },
    {
     "data": {
      "text/html": [
       "<h1>CENTERPOINT ENERGY MINNESOTA GAS</h1><h4>72,969</h3> tons of GHGs emitted last year.<h3> $3,648,450</h3> The amount of climate damage, done legally and in full public view. It amounts to an uncompensated theft from the future. <h2>182,422 </h2> And that amount of money is this ^^^ many times more than the amount George Floyd was accused of counterfeiting."
      ],
      "text/plain": [
       "<IPython.core.display.HTML object>"
      ]
     },
     "metadata": {},
     "output_type": "display_data"
    },
    {
     "data": {
      "text/html": [
       "<h1>PUBLIC SERVICE COMPANY OF COLORADO - SUBPART DD</h1><h4>53,281</h3> tons of GHGs emitted last year.<h3> $2,664,050</h3> The amount of climate damage, done legally and in full public view. It amounts to an uncompensated theft from the future. <h2>133,202 </h2> And that amount of money is this ^^^ many times more than the amount George Floyd was accused of counterfeiting."
      ],
      "text/plain": [
       "<IPython.core.display.HTML object>"
      ]
     },
     "metadata": {},
     "output_type": "display_data"
    },
    {
     "data": {
      "text/html": [
       "<h1>HENNEPIN COUNTY ENERGY CENTER</h1><h4>35,244</h3> tons of GHGs emitted last year.<h3> $1,762,200</h3> The amount of climate damage, done legally and in full public view. It amounts to an uncompensated theft from the future. <h2>88,110 </h2> And that amount of money is this ^^^ many times more than the amount George Floyd was accused of counterfeiting."
      ],
      "text/plain": [
       "<IPython.core.display.HTML object>"
      ]
     },
     "metadata": {},
     "output_type": "display_data"
    },
    {
     "data": {
      "text/html": [
       "<h1>METROPOLITAN AIRPORTS COMMISSION</h1><h4>28,139</h3> tons of GHGs emitted last year.<h3> $1,406,950</h3> The amount of climate damage, done legally and in full public view. It amounts to an uncompensated theft from the future. <h2>70,348 </h2> And that amount of money is this ^^^ many times more than the amount George Floyd was accused of counterfeiting."
      ],
      "text/plain": [
       "<IPython.core.display.HTML object>"
      ]
     },
     "metadata": {},
     "output_type": "display_data"
    }
   ],
   "source": [
    "my_ghg=my_ghg.sort_values(by=['GHG_CO2_RELEASES'], ascending=False)\n",
    "for index,row in my_ghg.iterrows():\n",
    "    display(HTML(\"<h1>\"+row[0]+\"</h1>\" + \\\n",
    "                \"<h4>\"+str(\"{:,.0f}\".format(row[6]))+\"</h3> tons of GHGs emitted last year.\" + \\\n",
    "                 \"<h3> $\"+str(\"{:,.0f}\".format(row[6]*50))+\"</h3> The amount of climate damage, done legally and in full public view. It amounts to an uncompensated theft from the future. \" + \\\n",
    "                 \"<h2>\" +str(\"{:,.0f}\".format((row[6]*50)/20))+\" </h2> And that amount of money is this ^^^ many times more than the amount George Floyd was accused of counterfeiting.\"\n",
    "                )\n",
    "           )"
   ]
  },
  {
   "cell_type": "markdown",
   "metadata": {},
   "source": [
    "## Clean Air Act violations\n",
    "\n",
    "But that's not all. Every day around the country, companies release \"criteria polluants\" - pollutants that are so harmful to human health, EPA has special authority to regulate them. The Clean Air Act sets up a system whereby facilities are permitted to emit these chemicals, up to a certain point. But EPA doesn't even enforce these permitted levels on a regular basis. \n",
    "\n",
    "Here we chart \"high priority\" violations of limits on criteria pollutants and instances where facilities were forced to pay. Compare whether the violations track with enforcement actions, and whether the penalties seem fitting."
   ]
  },
  {
   "cell_type": "code",
   "execution_count": 9,
   "metadata": {},
   "outputs": [],
   "source": [
    "id_list = my_echo[\"AIR_IDS\"].dropna()\n",
    "ids=\"\"\n",
    "for id in id_list:\n",
    "    ids+= \"'\"+id+\"', \"\n",
    "ids = ids[0:len(ids)-2]\n",
    "\n",
    "sql = \"select * from `ICIS-AIR_VIOLATION_HISTORY` where pgm_sys_id in (\"+ids+\")\"\n",
    "url='http://apps.tlt.stonybrook.edu/echoepa/?query='\n",
    "data_location=url+urllib.parse.quote(sql)\n",
    "\n",
    "v_data = pd.read_csv(data_location,encoding='iso-8859-1',header = 0)\n",
    "v_data.set_index(\"pgm_sys_id\", inplace=True)\n",
    "\n",
    "sql = \"select * from `ICIS-AIR_FORMAL_ACTIONS` where pgm_sys_id in (\"+ids+\") and PENALTY_AMOUNT > 0\"\n",
    "url='http://apps.tlt.stonybrook.edu/echoepa/?query='\n",
    "data_location=url+urllib.parse.quote(sql)\n",
    "\n",
    "e_data = pd.read_csv(data_location,encoding='iso-8859-1',header = 0)\n",
    "e_data.set_index(\"pgm_sys_id\", inplace=True)"
   ]
  },
  {
   "cell_type": "code",
   "execution_count": 10,
   "metadata": {},
   "outputs": [
    {
     "data": {
      "text/html": [
       "<h1>$73,778</h1>The following facilities/companies paid only this much in total for their violations."
      ],
      "text/plain": [
       "<IPython.core.display.HTML object>"
      ]
     },
     "metadata": {},
     "output_type": "display_data"
    },
    {
     "data": {
      "text/html": [
       "<h2> GAF MATERIALS CORP</h3>"
      ],
      "text/plain": [
       "<IPython.core.display.HTML object>"
      ]
     },
     "metadata": {},
     "output_type": "display_data"
    },
    {
     "data": {
      "text/html": [
       "<h2> ABBOTT NORTHWESTERN HOSPITAL</h3>"
      ],
      "text/plain": [
       "<IPython.core.display.HTML object>"
      ]
     },
     "metadata": {},
     "output_type": "display_data"
    },
    {
     "data": {
      "text/html": [
       "<h2> ADM MILLING - A FLOUR MILL</h3>"
      ],
      "text/plain": [
       "<IPython.core.display.HTML object>"
      ]
     },
     "metadata": {},
     "output_type": "display_data"
    },
    {
     "data": {
      "text/html": [
       "<h2> UNIVERSITY OF MN - MPLS SE STEAM PLANT</h3>"
      ],
      "text/plain": [
       "<IPython.core.display.HTML object>"
      ]
     },
     "metadata": {},
     "output_type": "display_data"
    },
    {
     "data": {
      "text/html": [
       "<h2> PROSPECT FOUNDRY LLC</h3>"
      ],
      "text/plain": [
       "<IPython.core.display.HTML object>"
      ]
     },
     "metadata": {},
     "output_type": "display_data"
    },
    {
     "data": {
      "text/html": [
       "<h2> UNIVERSITY OF MN - TWIN CITIES</h3>"
      ],
      "text/plain": [
       "<IPython.core.display.HTML object>"
      ]
     },
     "metadata": {},
     "output_type": "display_data"
    },
    {
     "data": {
      "text/html": [
       "<h2> AMERICAN IRON</h3>"
      ],
      "text/plain": [
       "<IPython.core.display.HTML object>"
      ]
     },
     "metadata": {},
     "output_type": "display_data"
    },
    {
     "data": {
      "text/html": [
       "<h2> INNOVENT LLC</h3>"
      ],
      "text/plain": [
       "<IPython.core.display.HTML object>"
      ]
     },
     "metadata": {},
     "output_type": "display_data"
    },
    {
     "data": {
      "text/html": [
       "<h2> XCEL ENERGY RIVERSIDE GENERATING PLANT</h3>"
      ],
      "text/plain": [
       "<IPython.core.display.HTML object>"
      ]
     },
     "metadata": {},
     "output_type": "display_data"
    },
    {
     "data": {
      "image/png": "[encoded data removed]",
      "text/plain": [
       "<Figure size 1440x720 with 1 Axes>"
      ]
     },
     "metadata": {
      "needs_background": "light"
     },
     "output_type": "display_data"
    }
   ],
   "source": [
    "v_data['HPV_DAYZERO_DATE'] = pd.to_datetime(v_data['HPV_DAYZERO_DATE'], format=\"%m-%d-%Y\") #format\n",
    "e_data['SETTLEMENT_ENTERED_DATE'] = pd.to_datetime(e_data['SETTLEMENT_ENTERED_DATE'], format=\"%m/%d/%Y\") #format\n",
    "cps = v_data\n",
    "e = e_data\n",
    "\n",
    "cps = cps[(cps['POLLUTANT_DESCS'].astype(str).str.lower().str.contains('particulate')) | \n",
    "          (cps['POLLUTANT_DESCS'].astype(str).str.lower().str.contains('sulfur')) |\n",
    "          (cps['POLLUTANT_DESCS'].astype(str).str.lower().str.contains('pm')) |\n",
    "          (cps['POLLUTANT_DESCS'].astype(str).str.lower().str.contains('nox')) |\n",
    "          (cps['POLLUTANT_DESCS'].astype(str).str.lower().str.contains('no2')) |\n",
    "          (cps['POLLUTANT_DESCS'].astype(str).str.lower().str.contains('sox')) |\n",
    "          (cps['POLLUTANT_DESCS'].astype(str).str.lower().str.contains('so2')) |\n",
    "          (cps['POLLUTANT_DESCS'].astype(str).str.lower().str.contains('lead')) |\n",
    "          (cps['POLLUTANT_DESCS'].astype(str).str.lower().str.contains('monoxide'))\n",
    "         ]\n",
    "facs = cps.index.unique() #facilities that violated CPs\n",
    "f = e.index.isin(facs.tolist())\n",
    "e = e[f]\n",
    "s = e[\"PENALTY_AMOUNT\"].sum() #total that facilities paid in penalties\n",
    "\n",
    "cps = cps.groupby(['HPV_DAYZERO_DATE'])['POLLUTANT_DESCS'].count() \n",
    "e = e.groupby(['SETTLEMENT_ENTERED_DATE'])['ENF_TYPE_DESC'].count() \n",
    "\n",
    "cps = cps.resample('Y').sum() #resample to a yearly basis  \n",
    "cps = pd.DataFrame(cps)\n",
    "cps = cps.rename(columns={'POLLUTANT_DESCS': \"Number of violations\"})\n",
    "cps.index = cps.index.strftime('%Y') # makes the x axis (date) prettier\n",
    "\n",
    "e = e.resample('Y').sum() #resample to a yearly basis  \n",
    "e = pd.DataFrame(e)\n",
    "e = e.rename(columns={'ENF_TYPE_DESC': \"Number of enforcement actions\"})\n",
    "e.index = e.index.strftime('%Y') # makes the x axis (date) prettier\n",
    "\n",
    "d=cps.join(e)\n",
    "\n",
    "ax = d.plot(kind='bar', title = \"# of Violations Related to Criteria Pollutants and Total Enforcements against the Facilities\", figsize=(20, 10), fontsize=16)\n",
    "ax.yaxis.set_major_locator(MaxNLocator(integer=True))\n",
    "ax\n",
    "\n",
    "#facility name lookup\n",
    "facs = facs.tolist()\n",
    "f = my_echo[\"AIR_IDS\"].isin(facs)\n",
    "f = my_echo[f]\n",
    "\n",
    "#print\n",
    "display(HTML(\"<h1>$\"+str(\"{:,.0f}\".format(s))+\"</h1>\" + \\\n",
    "    \"The following facilities/companies paid only this much in total for their violations.\"))\n",
    "for index,row in f.iterrows():\n",
    "    display(HTML(\"<h2> \"+row[0]+\"</h3>\"))"
   ]
  },
  {
   "cell_type": "markdown",
   "metadata": {},
   "source": [
    "## Next questions\n",
    "\n",
    "What other questions would you like to see added? Here are some I have:\n",
    "* What are the top 3 noncompliant facilities in the zip code and what are they violating?\n",
    "* Which types of noncompliance are we experiencing here?\n",
    "* Beyond \"significant\" – how much over their permits are they?\n",
    "\n",
    "Please suggest questions (click \"New Issue\") on the [Github page for this project](https://github.com/edgi-govdata-archiving/ECHO-by-Zip-Code/issues). Maybe we can answer them together!\n"
   ]
  },
  {
   "cell_type": "code",
   "execution_count": null,
   "metadata": {},
   "outputs": [],
   "source": []
  }
 ],
 "metadata": {
  "kernelspec": {
   "display_name": "Python 3",
   "language": "python",
   "name": "python3"
  },
  "language_info": {
   "codemirror_mode": {
    "name": "ipython",
    "version": 3
   },
   "file_extension": ".py",
   "mimetype": "text/x-python",
   "name": "python",
   "nbconvert_exporter": "python",
   "pygments_lexer": "ipython3",
   "version": "3.7.7"
  }
 },
 "nbformat": 4,
 "nbformat_minor": 2
}
