{
 "cells": [
  {
   "cell_type": "markdown",
   "metadata": {},
   "source": [
    "# Exploring ECHO Data in Your Area\n",
    "This workbook is a way to quickly view data from EPA's Enforcement and Compliance History Online portal that is relevant just to your area.\n",
    "It is designed to work with the [ECHO Exporter](https://echo.epa.gov/tools/data-downloads#exporter) file."
   ]
  },
  {
   "cell_type": "markdown",
   "metadata": {},
   "source": [
    "## How to run this notebook:\n",
    "1. Run the first cell and enter your own 5-digit U.S. ZIP code in the input field.\n",
    "1. You can then run cells sequentially, or go to the Runtime menu and click \"Run all\": ![Screen Shot 2020-02-26 at 3 26 14 PM](https://user-images.githubusercontent.com/454690/75397703-60361e00-58ac-11ea-81c2-69d13dfce158.png)\n",
    "1. That's it! It might take a minute or two to run and generate all the reports."
   ]
  },
  {
   "cell_type": "markdown",
   "metadata": {},
   "source": [
    "# **Let's begin!**\n",
    "Hover over the \"[ ]\" on the top left corner of the cell below and you should see a \"play\" button appear. Click on it to run the cell then move to the next one.¶\n",
    "### Run this next cell to create the widget for inputting your zip code. It will create an input field at the bottom. Enter your zip code and then move on to the next cell, or choose Run All as described above."
   ]
  },
  {
   "cell_type": "code",
   "execution_count": null,
   "metadata": {},
   "outputs": [],
   "source": [
    "# Import libraries\n",
    "import pandas as pd\n",
    "import numpy as np\n",
    "import matplotlib.pyplot as plt\n",
    "%matplotlib inline\n",
    "import folium\n",
    "import urllib.parse\n",
    "from ipywidgets import interact, interactive, fixed, interact_manual\n",
    "import ipywidgets as widgets\n",
    "from IPython.display import display\n",
    "\n",
    "def get_data( sql, index_field = None ):\n",
    "    url='http://apps.tlt.stonybrook.edu/echoepa/?query='\n",
    "    data_location=url+urllib.parse.quote(sql)\n",
    "    ds = pd.read_csv(data_location,encoding='iso-8859-1')\n",
    "    if ( index_field is not None ):\n",
    "        ds.set_index( index_field, inplace=True)\n",
    "    return ds\n",
    "\n",
    "zip_widget = widgets.IntText(\n",
    "    value=1,\n",
    "    description='Zip Code:',\n",
    "    disabled=False\n",
    ")\n",
    "display( zip_widget )"
   ]
  },
  {
   "cell_type": "code",
   "execution_count": null,
   "metadata": {},
   "outputs": [],
   "source": [
    "my_zip = zip_widget.value\n",
    "\n",
    "# Define columns of interest (see the echo_exporter_columns xlsx file that comes bundled with the csv download)\n",
    "# This is not a comprehensive list of columns; more are available.\n",
    "# This dictionary maps the column titles to their data types, to allow for faster import\n",
    "\n",
    "# Note to self - right now mapping everything not explicitly a number as a string, might be an issue later\n",
    "column_mapping = {\n",
    "    \"REGISTRY_ID\": str,\n",
    "    \"FAC_NAME\": str,\n",
    "    \"FAC_ZIP\": str,\n",
    "    \"FAC_LAT\": float,\n",
    "    \"FAC_LONG\": float,\n",
    "    \"FAC_QTRS_WITH_NC\": float,\n",
    "    \"CAA_PERMIT_TYPES\": str,\n",
    "    \"CWA_PERMIT_TYPES\": str,\n",
    "    \"RCRA_PERMIT_TYPES\": str,\n",
    "    \"FAC_3YR_COMPLIANCE_HISTORY\": str,\n",
    "    \"FAC_INSPECTION_COUNT\": float,\n",
    "    \"GHG_CO2_RELEASES\": float\n",
    "}\n",
    "# not currently using: \"FAC_INFORMAL_COUNT\", \"FAC_FORMAL_ACTION_COUNT\"\n",
    "column_names = list( column_mapping.keys() )\n",
    "columns_string = ','.join( column_names )\n"
   ]
  },
  {
   "cell_type": "code",
   "execution_count": null,
   "metadata": {},
   "outputs": [],
   "source": [
    "# Filter to just your zip code\n",
    "\n",
    "sql = \"select \" + columns_string + \" from ECHO_EXPORTER where FAC_ZIP = \" + str( my_zip )\n",
    "try:\n",
    "    # Use the first column name as the index.\n",
    "    my_echo = get_data( sql, column_names[0] )\n",
    "    num_permits = my_echo.shape[0]\n",
    "except pd.errors.EmptyDataError:\n",
    "    print(\"\\nThere are no EPA facilities in this zip code.\\n\")"
   ]
  },
  {
   "cell_type": "markdown",
   "metadata": {},
   "source": [
    "## How many facilities in your zip code are tracked in the ECHO database?\n",
    "ECHO is shorthand for Enforcement and Compliance History Online, the major repository of the U.S. Environmental Protection Agency for public data on its oversight and enforcement activities.  ECHO contains information on most if not all of the facilities regulated by the agency for their compliance with our major environmental laws. ([EPA’s “about ECHO data” page](https://echo.epa.gov/resources/echo-data/about-the-data))"
   ]
  },
  {
   "cell_type": "code",
   "execution_count": null,
   "metadata": {},
   "outputs": [],
   "source": [
    "num_facilities = my_echo.shape[0]\n",
    "print(\"There are %s facilities in %s tracked in the ECHO database.\" %(num_facilities, my_zip))"
   ]
  },
  {
   "cell_type": "code",
   "execution_count": null,
   "metadata": {},
   "outputs": [],
   "source": [
    "# Let's show a quick map of your area and the facilities in it\n",
    "\n",
    "def mapper(dataframe):\n",
    "    # Initialize the map\n",
    "    m = folium.Map(\n",
    "        location = [my_echo.mean()[\"FAC_LAT\"], my_echo.mean()[\"FAC_LONG\"]],\n",
    "        zoom_start = 11\n",
    "    )\n",
    "\n",
    "    # Add a clickable marker for each facility\n",
    "    for index, row in dataframe.iterrows():\n",
    "        folium.Marker(\n",
    "            location = [row[\"FAC_LAT\"], row[\"FAC_LONG\"]],\n",
    "            popup = row[\"FAC_NAME\"]\n",
    "        ).add_to(m)\n",
    "\n",
    "    # Show the map\n",
    "    return m\n",
    "\n",
    "map_of_facilities_in_my_area = mapper(my_echo)\n",
    "map_of_facilities_in_my_area"
   ]
  },
  {
   "cell_type": "markdown",
   "metadata": {},
   "source": [
    "## What permit types have been issued in this zip code?\n",
    "ECHO contains data on EPA’s permitting systems, a chief means by which it administers three major national environmental laws, for clean air (the Clean Air Act, or CAA), clean water (the Clean Water Act, or CWA), and hazardous waste handling (RCRA, or the Resource Recovery and Conservation Act).   Potential or actual emitters of any of these kinds of pollution have to receive a permit from the EPA before they can legally operate, setting a clear limit on the pollution they can emit.   Permitted firms can still pollute some, but only within limits set by the permit.  The agency is supposed to set the allowed emissions at a level that avoids threats to human health and the environment. When a facility’s emissions stay within the permitted limits, it is considered “in compliance.” When its air, water, or hazardous waste emissions exceed the terms of its permit, that’s a violation. "
   ]
  },
  {
   "cell_type": "code",
   "execution_count": null,
   "metadata": {},
   "outputs": [],
   "source": [
    "permit_cols = [\"CAA_PERMIT_TYPES\",\"CWA_PERMIT_TYPES\",\"RCRA_PERMIT_TYPES\"]\n",
    "\n",
    "# Get a DataFrame with just the columns relating to permit type\n",
    "permits = my_echo[permit_cols]\n",
    "# Count how many non-null values are in each column\n",
    "counted_permit_types = permits.count()\n",
    "\n",
    "# Print how many values are present for each column (permitting law)\n",
    "print(counted_permit_types)\n",
    "\n",
    "# Graph the number of permits by which law they correspond to\n",
    "plt.bar(counted_permit_types.keys(), counted_permit_types)\n",
    "plt.ylim(top = num_facilities) # so the top of the graph is the total # of facilities in the region\n",
    "plt.title(\"Number of Permits of Various Types in %s\" %(my_zip))"
   ]
  },
  {
   "cell_type": "markdown",
   "metadata": {},
   "source": [
    "To learn more about the several types of permits offered under the Clean Air Act (operating, New Source Review, and others), see EPA’s explanation [here](https://www.epa.gov/caa-permitting).  To learn about the major permitting system under the Clean Water Act, the National Pollutant Discharge Elimination System (NPDES), see EPA’s explanation [here](https://www.epa.gov/npdes).  For more about the EPA’s permitting program for handlers of hazardous waste, click [here](https://www.epa.gov/hwpermitting).\n",
    "\n",
    "In its air and water programs, EPA draws a line between “major” polluters, which require permits, and “minor” polluters, few of which do.  [Air polluting facilities, for instance](https://www.epa.gov/title-v-operating-permits/who-has-obtain-title-v-permit), are classified as “major,” and must apply for operating permits, if they actually or potentially emit at least 100 tons of a general air pollutant in a year, or 10 tons of a single “hazardous” air pollutant or 25 of a combination of hazardous chemicals per year.  Most “non-major” air polluters, releasing less than those amounts, aren’t required to have permits unless classified as an especially dangerous industry, like smelting or chemical production."
   ]
  },
  {
   "cell_type": "code",
   "execution_count": null,
   "metadata": {},
   "outputs": [],
   "source": [
    "# Drilling down into what types of permits have been issued\n",
    "\n",
    "# Define a function for counting permit types\n",
    "def count_permits(permit_law):\n",
    "    # Find all the possible permit types\n",
    "    permit_types_with_nan = my_echo[permit_law].unique().tolist()\n",
    "    # Remove null value as a permit type\n",
    "    permit_types = [i for i in permit_types_with_nan if str(i) != \"nan\"] # note that nan values fail to be counted even when left in\n",
    "    # Define a dictionary to save counted permits\n",
    "    permits_issued = {}\n",
    "    # For each permit type...\n",
    "    for permit_type in permit_types:\n",
    "        # Count those unique values and save them corresponding to their permit type\n",
    "        permits_issued[permit_type] = my_echo[my_echo[permit_law] == permit_type].shape[0]\n",
    "    # Return a tuple naming the law the permit is issued under and a dictionary counting its issued permits\n",
    "    return (permits_issued)\n",
    "\n",
    "# For each permit type\n",
    "for permit_law in permit_cols:\n",
    "    counted_permits = count_permits(permit_law)\n",
    "    \n",
    "    # Print the raw data\n",
    "    print(permit_law)\n",
    "    print(counted_permits)\n",
    "    \n",
    "    # Plot a pie chart breaking down type of permit in each category\n",
    "    plt.pie(counted_permits.values(), labels = list(counted_permits.keys()))\n",
    "    plt.show()\n"
   ]
  },
  {
   "cell_type": "markdown",
   "metadata": {},
   "source": [
    "See above for the explanation of “major” and “non-major” air permits; similar distinctions also guide permitting in the [water (CWA)](https://www.epa.gov/npdes-permits/guidance-majorminor-designation-npdes-facilities-region-10) and [hazardous waste (RCRA, CERCLA)](https://www.epa.gov/hwgenerators/categories-hazardous-waste-generators) programs. LQG refers to [“Large Quantity Generators” of hazardous wastes](https://www.epa.gov/hwgenerators/fact-sheet-requirements-large-quantity-generators-hazardous-waste), generating 1,000 kilograms per month or more of hazardous waste or more than one kilogram per month of acutely hazardous waste; SQG to “Small Quantity Generators,” generating less than that, as well as VSQGs or  “very small quantities generators,”– yielding 100 kilograms or less per month of hazardous waste or one kilogram or less per month of acutely hazardous waste."
   ]
  },
  {
   "cell_type": "markdown",
   "metadata": {},
   "source": [
    "## Are there facilities in my region not in compliance with their permits in the last three years?\n",
    "\n",
    "ECHO registers compliance —that a facility’s emissions are within the limits allowed by its permit(s) — by quarter. Those shown to be exceeding their permitted emissions, either through inspections, evaluations, or monitoring data of various kinds, are considered noncompliant, and in violation.  It is worth noting that emissions averaged over a quarter of a year can fail to reflect the level of danger posed by a single and sudden but burst, such as from a massive spill or fire."
   ]
  },
  {
   "cell_type": "code",
   "execution_count": null,
   "metadata": {},
   "outputs": [],
   "source": [
    "# How many facilities have been out of compliance in the last 12 quarters?\n",
    "\n",
    "noncompliant = my_echo[my_echo[\"FAC_QTRS_WITH_NC\"] > 0].sort_values(by=\"FAC_QTRS_WITH_NC\", ascending=False)\n",
    "num_noncompliant = noncompliant.shape[0]\n",
    "plt.pie([num_noncompliant, num_facilities - num_noncompliant], labels=[\"Noncompliant\", \"Compliant\"], autopct='%1.1f%%', shadow=True)\n",
    "\n",
    "plt.title(\"%s of %s Total Facilities Noncompliant in %s in the last 12 qtrs\" %(num_noncompliant, num_facilities, my_zip))"
   ]
  },
  {
   "cell_type": "markdown",
   "metadata": {},
   "source": [
    "### Where are these noncompliant facilities?"
   ]
  },
  {
   "cell_type": "code",
   "execution_count": null,
   "metadata": {},
   "outputs": [],
   "source": [
    "map_of_noncompliant_facilities = mapper(noncompliant)\n",
    "map_of_noncompliant_facilities"
   ]
  },
  {
   "cell_type": "markdown",
   "metadata": {},
   "source": [
    "### Which facilities are out of compliance?"
   ]
  },
  {
   "cell_type": "code",
   "execution_count": null,
   "metadata": {},
   "outputs": [],
   "source": [
    "# Which facilities aren't in compliance?\n",
    "\n",
    "print(\"Facilities in %s noncompliant in the last 12 quarters:\" %my_zip)\n",
    "cols_for_print = [\"FAC_NAME\", \"FAC_QTRS_WITH_NC\"]\n",
    "print(noncompliant[cols_for_print])"
   ]
  },
  {
   "cell_type": "code",
   "execution_count": null,
   "metadata": {},
   "outputs": [],
   "source": [
    "# More details on noncompliant facilities\n",
    "print(\"Facilities in %s noncompliant in the last 12 quarters:\" %my_zip)\n",
    "\n",
    "additional_cols = [\"FAC_3YR_COMPLIANCE_HISTORY\", \"FAC_INSPECTION_COUNT\"]\n",
    "cols_for_print.extend(additional_cols)\n",
    "cols_for_print.extend(permit_cols)\n",
    "\n",
    "\n",
    "print(noncompliant[cols_for_print])"
   ]
  },
  {
   "cell_type": "markdown",
   "metadata": {},
   "source": [
    "# Greenhouse Gases"
   ]
  },
  {
   "cell_type": "code",
   "execution_count": null,
   "metadata": {},
   "outputs": [],
   "source": [
    "my_ghg = my_echo[my_echo[\"GHG_CO2_RELEASES\"].notna()]\n",
    "\n",
    "plt.pie([my_ghg.shape[0], num_facilities - my_ghg.shape[0]], labels=[\"Reporting GHG Emissions\", \"Not Reporting GHG Emissions\"], autopct='%1.1f%%', shadow=True)\n",
    "\n",
    "plt.title('Of the %s facilities reporting to ECHO in %s, %s report greenhouse gas emissions.' %(num_facilities, my_zip, my_ghg.shape[0]))\n"
   ]
  },
  {
   "cell_type": "markdown",
   "metadata": {},
   "source": [
    "Stats on CO2 releases for the facilities that are reporting: Total Facility Emissions in metric tons CO2e (excluding Biogenic CO2) from the most recent reporting year."
   ]
  },
  {
   "cell_type": "code",
   "execution_count": null,
   "metadata": {},
   "outputs": [],
   "source": [
    "print(\"'Count' is the number of facilities reporting; all of the other numbers are statistics on the greenhouse gas emissions of all of the facilities in %s, measured in metric tons of CO2e.\" %my_zip)\n",
    "my_ghg[\"GHG_CO2_RELEASES\"].describe()"
   ]
  },
  {
   "cell_type": "markdown",
   "metadata": {},
   "source": [
    "**Bonus:** Try entering the mean (from above) into https://www.epa.gov/energy/greenhouse-gas-equivalencies-calculator and see what an average facility in your zip code emits into the atmosphere compared to you."
   ]
  },
  {
   "cell_type": "code",
   "execution_count": null,
   "metadata": {},
   "outputs": [],
   "source": [
    "plt.bar(my_ghg[\"FAC_NAME\"], my_ghg[\"GHG_CO2_RELEASES\"])\n",
    "plt.title(\"Total Facility Emissions from the most recent reporting year\")\n",
    "plt.ylabel(\"metric tons CO2e (excluding Biogenic CO2)\")"
   ]
  },
  {
   "cell_type": "markdown",
   "metadata": {},
   "source": [
    "# Next questions\n",
    "\n",
    "What other questions would you like to see added? Here are some I have:\n",
    "* What are the top 3 noncompliant facilities in the zip code and what are they violating?\n",
    "* Which types of noncompliance are we experiencing here?\n",
    "* Beyond \"significant\" – how much over their permits are they?\n",
    "\n",
    "Please suggest questions (click \"New Issue\") on the [Github page for this project](https://github.com/edgi-govdata-archiving/ECHO-by-Zip-Code/issues). Maybe we can answer them together!\n"
   ]
  },
  {
   "cell_type": "code",
   "execution_count": null,
   "metadata": {},
   "outputs": [],
   "source": []
  }
 ],
 "metadata": {
  "kernelspec": {
   "display_name": "Python 3",
   "language": "python",
   "name": "python3"
  },
  "language_info": {
   "codemirror_mode": {
    "name": "ipython",
    "version": 3
   },
   "file_extension": ".py",
   "mimetype": "text/x-python",
   "name": "python",
   "nbconvert_exporter": "python",
   "pygments_lexer": "ipython3",
   "version": "3.7.6"
  }
 },
 "nbformat": 4,
 "nbformat_minor": 2
}
